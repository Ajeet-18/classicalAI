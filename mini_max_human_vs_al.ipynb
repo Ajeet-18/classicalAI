{
  "nbformat": 4,
  "nbformat_minor": 0,
  "metadata": {
    "colab": {
      "provenance": [],
      "authorship_tag": "ABX9TyOnDnfNIcjD1Ck13kCkDX8u",
      "include_colab_link": true
    },
    "kernelspec": {
      "name": "python3",
      "display_name": "Python 3"
    },
    "language_info": {
      "name": "python"
    }
  },
  "cells": [
    {
      "cell_type": "markdown",
      "metadata": {
        "id": "view-in-github",
        "colab_type": "text"
      },
      "source": [
        "<a href=\"https://colab.research.google.com/github/Ajeet-18/classicalAI/blob/main/mini_max_human_vs_al.ipynb\" target=\"_parent\"><img src=\"https://colab.research.google.com/assets/colab-badge.svg\" alt=\"Open In Colab\"/></a>"
      ]
    },
    {
      "cell_type": "markdown",
      "source": [
        "1. Write a python code to implement the Mini-Max algorithm for the Tic-Tac-Toe game. This code should compute the minimax values of the entire game tree starting from the initial blank state. Write the minimax values to a json file (or any other suitable format) after the training. Think of techniques you can use to reduce the size of this file."
      ],
      "metadata": {
        "id": "_bjLbtJaNhaF"
      }
    },
    {
      "cell_type": "markdown",
      "source": [
        "2. Write a python code that uses the output of #1 (from the json file) to play the game against a human player."
      ],
      "metadata": {
        "id": "a9rqBQf7NnY5"
      }
    },
    {
      "cell_type": "code",
      "execution_count": null,
      "metadata": {
        "id": "9HGNln0Txzqf"
      },
      "outputs": [],
      "source": [
        "from math import inf as infinity"
      ]
    },
    {
      "cell_type": "code",
      "source": [
        "from random import choice"
      ],
      "metadata": {
        "id": "yfrh00ddx-Gi"
      },
      "execution_count": null,
      "outputs": []
    },
    {
      "cell_type": "code",
      "source": [
        "import platform"
      ],
      "metadata": {
        "id": "4wi4vv0YyDhz"
      },
      "execution_count": null,
      "outputs": []
    },
    {
      "cell_type": "code",
      "source": [
        "import time"
      ],
      "metadata": {
        "id": "JnMNOOjdyHB1"
      },
      "execution_count": null,
      "outputs": []
    },
    {
      "cell_type": "code",
      "source": [
        "from os import system"
      ],
      "metadata": {
        "id": "X6uWEQpnyJgV"
      },
      "execution_count": null,
      "outputs": []
    },
    {
      "cell_type": "code",
      "source": [
        "HUMAN = -1\n",
        "AI = +1\n",
        "board = [\n",
        "    [0, 0, 0],\n",
        "    [0, 0, 0],\n",
        "    [0, 0, 0],\n",
        "]\n",
        "\n",
        "\n",
        "def evaluate(state):                                                      # evaluate state, +1 if the AI wins; -1 if the human wins; 0 draw\n",
        "    if wins(state, AI):\n",
        "        score = +1\n",
        "    elif wins(state, HUMAN):\n",
        "        score = -1\n",
        "    else:\n",
        "        score = 0\n",
        "\n",
        "    return score"
      ],
      "metadata": {
        "id": "1rsU8GGgyUV4"
      },
      "execution_count": null,
      "outputs": []
    },
    {
      "cell_type": "code",
      "source": [
        "def wins(state, player):                                                   # This function tests if a specific player wins\n",
        "    win_state = [\n",
        "        [state[0][0], state[0][1], state[0][2]],\n",
        "        [state[1][0], state[1][1], state[1][2]],\n",
        "        [state[2][0], state[2][1], state[2][2]],\n",
        "        [state[0][0], state[1][0], state[2][0]],\n",
        "        [state[0][1], state[1][1], state[2][1]],\n",
        "        [state[0][2], state[1][2], state[2][2]],\n",
        "        [state[0][0], state[1][1], state[2][2]],\n",
        "        [state[2][0], state[1][1], state[0][2]],\n",
        "    ]\n",
        "    if [player, player, player] in win_state:                              # return: True, if the player wins\n",
        "        return True\n",
        "    else:\n",
        "        return False\n",
        "\n",
        "\n",
        "def game_over(state):                                                      # This function test if the human or AI wins\n",
        "    return wins(state, HUMAN) or wins(state, AI)                           # return: True, if the human or AI win\n",
        "\n",
        "\n",
        "def empty_cells(state):                                                    # Each empty cell will be added into cells' list\n",
        "    cells = []                                                             # return: a, list of empty cells\n",
        "\n",
        "    for x, row in enumerate(state):\n",
        "        for y, cell in enumerate(row):\n",
        "            if cell == 0:\n",
        "                cells.append([x, y])\n",
        "\n",
        "    return cells\n"
      ],
      "metadata": {
        "id": "hXt7UQ5XyVf5"
      },
      "execution_count": null,
      "outputs": []
    },
    {
      "cell_type": "code",
      "source": [
        "def valid_move(x, y):                                                     # A move is valid if the chosen cell is empty\n",
        "    if [x, y] in empty_cells(board):                                       # return: True if the board[x][y] is empty\n",
        "        return True\n",
        "    else:\n",
        "        return False"
      ],
      "metadata": {
        "id": "QMFJEGs6yZy4"
      },
      "execution_count": null,
      "outputs": []
    },
    {
      "cell_type": "code",
      "source": [
        "def set_move(x, y, player):                                               # Set the move on board, if the coordinates are valid\n",
        "    if valid_move(x, y):\n",
        "        board[x][y] = player\n",
        "        return True\n",
        "    else:\n",
        "        return False"
      ],
      "metadata": {
        "id": "G_udaR4Eycks"
      },
      "execution_count": null,
      "outputs": []
    },
    {
      "cell_type": "code",
      "source": [
        "def minimax(state, depth, player):                                        # AI function that choice the best move\n",
        "    if player == AI:                                                      # return: a list with [the best row, best col, best score\n",
        "        best = [-1, -1, -infinity]\n",
        "    else:\n",
        "        best = [-1, -1, +infinity]\n",
        "\n",
        "    if depth == 0 or game_over(state):\n",
        "        score = evaluate(state)\n",
        "        return [-1, -1, score]\n",
        "\n",
        "    for cell in empty_cells(state):\n",
        "        x, y = cell[0], cell[1]\n",
        "        state[x][y] = player\n",
        "        score = minimax(state, depth - 1, -player)\n",
        "        state[x][y] = 0\n",
        "        score[0], score[1] = x, y\n",
        "\n",
        "        if player == AI:\n",
        "            if score[2] > best[2]:\n",
        "                best = score                                            # max value\n",
        "        else:\n",
        "            if score[2] < best[2]:\n",
        "                best = score                                            # min value\n",
        "\n",
        "    return best"
      ],
      "metadata": {
        "id": "khFLQvJpygXL"
      },
      "execution_count": null,
      "outputs": []
    },
    {
      "cell_type": "code",
      "source": [
        "def clean():                                                            # Clears the console\n",
        "    os_name = platform.system().lower()\n",
        "    if 'windows' in os_name:\n",
        "        system('cls')\n",
        "    else:\n",
        "        system('clear')"
      ],
      "metadata": {
        "id": "teHt8j6Iytg_"
      },
      "execution_count": null,
      "outputs": []
    },
    {
      "cell_type": "code",
      "source": [
        "def render(state, c_choice, h_choice):                                   # Print the board on consol\n",
        "    chars = {\n",
        "        -1: h_choice,\n",
        "        +1: c_choice,\n",
        "        0: ' '\n",
        "    }\n",
        "    str_line = '---------------'\n",
        "\n",
        "    print('\\n' + str_line)\n",
        "    for row in state:\n",
        "        for cell in row:\n",
        "            symbol = chars[cell]\n",
        "            print(f'| {symbol} |', end='')\n",
        "        print('\\n' + str_line)"
      ],
      "metadata": {
        "id": "f1GJgb04yw03"
      },
      "execution_count": null,
      "outputs": []
    },
    {
      "cell_type": "code",
      "source": [
        "def ai_turn(c_choice, h_choice):                                          # It calls the minimax function if the depth < 9,else it choices a random coordinate\n",
        "    depth = len(empty_cells(board))\n",
        "    if depth == 0 or game_over(board):\n",
        "        return\n",
        "\n",
        "    clean()\n",
        "    print(f'AI turn [{c_choice}]')\n",
        "    render(board, c_choice, h_choice)\n",
        "\n",
        "    if depth == 9:\n",
        "        x = choice([0, 1, 2])\n",
        "        y = choice([0, 1, 2])\n",
        "    else:\n",
        "        move = minimax(board, depth, AI)\n",
        "        x, y = move[0], move[1]\n",
        "\n",
        "    set_move(x, y, AI)\n",
        "    time.sleep(1)"
      ],
      "metadata": {
        "id": "WsAR1QOuyzo5"
      },
      "execution_count": null,
      "outputs": []
    },
    {
      "cell_type": "code",
      "source": [
        "def human_turn(c_choice, h_choice):                                     # Human plays choosing a valid move.\n",
        "    depth = len(empty_cells(board))\n",
        "    if depth == 0 or game_over(board):\n",
        "        return\n",
        "\n",
        "    # Dictionary of valid moves\n",
        "    move = -1\n",
        "    moves = {\n",
        "        1: [0, 0], 2: [0, 1], 3: [0, 2],\n",
        "        4: [1, 0], 5: [1, 1], 6: [1, 2],\n",
        "        7: [2, 0], 8: [2, 1], 9: [2, 2],\n",
        "    }\n",
        "\n",
        "    clean()\n",
        "    print(f'Human turn [{h_choice}]')\n",
        "    render(board, c_choice, h_choice)\n",
        "\n",
        "    while move < 1 or move > 9:\n",
        "        try:\n",
        "            move = int(input('Use numpad (1..9): '))\n",
        "            coord = moves[move]\n",
        "            can_move = set_move(coord[0], coord[1], HUMAN)\n",
        "\n",
        "            if not can_move:\n",
        "                print('Bad move')\n",
        "                move = -1\n",
        "        except (EOFError, KeyboardInterrupt):\n",
        "            print('Bye')\n",
        "            exit()\n",
        "        except (KeyError, ValueError):\n",
        "            print('Bad choice')"
      ],
      "metadata": {
        "id": "3l1ObVo-y3tL"
      },
      "execution_count": null,
      "outputs": []
    },
    {
      "cell_type": "code",
      "source": [
        "def main():                                                              # Main function that calls all functions\n",
        "    clean()\n",
        "    h_choice = ''  # X or O\n",
        "    c_choice = ''  # X or O\n",
        "    first = ''  # if human is the first\n",
        "\n",
        "    # Human chooses X or O to play\n",
        "    while h_choice != 'O' and h_choice != 'X':\n",
        "        try:\n",
        "            print('')\n",
        "            h_choice = input('Choose X or O\\nChosen: ').upper()\n",
        "        except (EOFError, KeyboardInterrupt):\n",
        "            print('Bye')\n",
        "            exit()\n",
        "        except (KeyError, ValueError):\n",
        "            print('Bad choice')\n",
        "\n",
        "    # Setting computer's choice\n",
        "    if h_choice == 'X':\n",
        "        c_choice = 'O'\n",
        "    else:\n",
        "        c_choice = 'X'\n",
        "\n",
        "    # Human may starts first\n",
        "    clean()\n",
        "    while first != 'Y' and first != 'N':\n",
        "        try:\n",
        "            first = input('First to start?[y/n]: ').upper()\n",
        "        except (EOFError, KeyboardInterrupt):\n",
        "            print('Bye')\n",
        "            exit()\n",
        "        except (KeyError, ValueError):\n",
        "            print('Bad choice')\n",
        "\n",
        "    # Main loop of this game\n",
        "    while len(empty_cells(board)) > 0 and not game_over(board):\n",
        "        if first == 'N':\n",
        "            ai_turn(c_choice, h_choice)\n",
        "            first = ''\n",
        "\n",
        "        human_turn(c_choice, h_choice)\n",
        "        ai_turn(c_choice, h_choice)\n",
        "\n",
        "    # Game over message\n",
        "    if wins(board, HUMAN):\n",
        "        clean()\n",
        "        print(f'Human turn [{h_choice}]')\n",
        "        render(board, c_choice, h_choice)\n",
        "        print('YOU WIN!')\n",
        "    elif wins(board, AI):\n",
        "        clean()\n",
        "        print(f'AI turn [{c_choice}]')\n",
        "        render(board, c_choice, h_choice)\n",
        "        print('YOU LOSE!')\n",
        "    else:\n",
        "        clean()\n",
        "        render(board, c_choice, h_choice)\n",
        "        print('DRAW!')\n",
        "\n",
        "    exit()"
      ],
      "metadata": {
        "id": "unWJXOVNy8CD"
      },
      "execution_count": null,
      "outputs": []
    },
    {
      "cell_type": "code",
      "source": [
        "if __name__ == '__main__':\n",
        "    main()"
      ],
      "metadata": {
        "colab": {
          "base_uri": "https://localhost:8080/"
        },
        "id": "ggVNN6jDzB1w",
        "outputId": "79c55fa5-e16c-4129-d2de-db686c81146c"
      },
      "execution_count": null,
      "outputs": [
        {
          "output_type": "stream",
          "name": "stdout",
          "text": [
            "\n",
            "Choose X or O\n",
            "Chosen: x\n",
            "First to start?[y/n]: n\n",
            "AI turn [O]\n",
            "\n",
            "---------------\n",
            "|   ||   ||   |\n",
            "---------------\n",
            "|   ||   ||   |\n",
            "---------------\n",
            "|   ||   ||   |\n",
            "---------------\n",
            "Human turn [X]\n",
            "\n",
            "---------------\n",
            "|   ||   ||   |\n",
            "---------------\n",
            "|   || O ||   |\n",
            "---------------\n",
            "|   ||   ||   |\n",
            "---------------\n",
            "Use numpad (1..9): 6\n",
            "AI turn [O]\n",
            "\n",
            "---------------\n",
            "|   ||   ||   |\n",
            "---------------\n",
            "|   || O || X |\n",
            "---------------\n",
            "|   ||   ||   |\n",
            "---------------\n",
            "Human turn [X]\n",
            "\n",
            "---------------\n",
            "| O ||   ||   |\n",
            "---------------\n",
            "|   || O || X |\n",
            "---------------\n",
            "|   ||   ||   |\n",
            "---------------\n",
            "Use numpad (1..9): 9\n",
            "AI turn [O]\n",
            "\n",
            "---------------\n",
            "| O ||   ||   |\n",
            "---------------\n",
            "|   || O || X |\n",
            "---------------\n",
            "|   ||   || X |\n",
            "---------------\n",
            "Human turn [X]\n",
            "\n",
            "---------------\n",
            "| O ||   || O |\n",
            "---------------\n",
            "|   || O || X |\n",
            "---------------\n",
            "|   ||   || X |\n",
            "---------------\n",
            "Use numpad (1..9): 8\n",
            "AI turn [O]\n",
            "\n",
            "---------------\n",
            "| O ||   || O |\n",
            "---------------\n",
            "|   || O || X |\n",
            "---------------\n",
            "|   || X || X |\n",
            "---------------\n",
            "AI turn [O]\n",
            "\n",
            "---------------\n",
            "| O || O || O |\n",
            "---------------\n",
            "|   || O || X |\n",
            "---------------\n",
            "|   || X || X |\n",
            "---------------\n",
            "YOU LOSE!\n"
          ]
        }
      ]
    }
  ]
}