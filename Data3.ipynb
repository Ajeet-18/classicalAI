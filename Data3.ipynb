{
  "nbformat": 4,
  "nbformat_minor": 0,
  "metadata": {
    "colab": {
      "provenance": [],
      "authorship_tag": "ABX9TyOPDRONjsJjxoAkMGjD0DYW",
      "include_colab_link": true
    },
    "kernelspec": {
      "name": "python3",
      "display_name": "Python 3"
    },
    "language_info": {
      "name": "python"
    }
  },
  "cells": [
    {
      "cell_type": "markdown",
      "metadata": {
        "id": "view-in-github",
        "colab_type": "text"
      },
      "source": [
        "<a href=\"https://colab.research.google.com/github/Ajeet-18/classicalAI/blob/main/Data3.ipynb\" target=\"_parent\"><img src=\"https://colab.research.google.com/assets/colab-badge.svg\" alt=\"Open In Colab\"/></a>"
      ]
    },
    {
      "cell_type": "code",
      "source": [
        "import pandas as pd"
      ],
      "metadata": {
        "id": "3oMswiEUoKj0"
      },
      "execution_count": null,
      "outputs": []
    },
    {
      "cell_type": "code",
      "source": [
        "import numpy as np"
      ],
      "metadata": {
        "id": "nqEbsXZroNX4"
      },
      "execution_count": null,
      "outputs": []
    },
    {
      "cell_type": "code",
      "source": [
        "from matplotlib import pyplot as plt"
      ],
      "metadata": {
        "id": "5OBIKoaEoM5y"
      },
      "execution_count": null,
      "outputs": []
    },
    {
      "cell_type": "code",
      "source": [
        "from sklearn.linear_model import LinearRegression"
      ],
      "metadata": {
        "id": "7CKFi5tvoMs2"
      },
      "execution_count": null,
      "outputs": []
    },
    {
      "cell_type": "code",
      "source": [
        "from sklearn.metrics import mean_absolute_error, mean_squared_error, r2_score"
      ],
      "metadata": {
        "id": "C4zpdv2xoMVI"
      },
      "execution_count": null,
      "outputs": []
    },
    {
      "cell_type": "code",
      "source": [
        "import plotly.express as px"
      ],
      "metadata": {
        "id": "mC_zqeGswbCB"
      },
      "execution_count": null,
      "outputs": []
    },
    {
      "cell_type": "code",
      "source": [
        "df = pd.read_csv(\"Data3.csv\")"
      ],
      "metadata": {
        "id": "6JeAwRCqobR0"
      },
      "execution_count": null,
      "outputs": []
    },
    {
      "cell_type": "code",
      "source": [
        "# Extract the 'x' and 'z' columns from the DataFrame and convert them to lists\n",
        "X = [float(item) for item in list(df['x'])]\n",
        "Y = [float(item) for item in list(df['z'])]\n",
        "\n",
        "# Scatter plot of 'X' against 'Y' using Matplotlib\n",
        "plt.scatter(X, Y, s=5)\n",
        "\n",
        "# Display the plot\n",
        "plt.show()"
      ],
      "metadata": {
        "id": "0rIpCBv6Wpbw",
        "colab": {
          "base_uri": "https://localhost:8080/",
          "height": 430
        },
        "outputId": "44be3787-4a3d-4bf6-ea0e-846457fe2c5d"
      },
      "execution_count": null,
      "outputs": [
        {
          "output_type": "display_data",
          "data": {
            "text/plain": [
              "<Figure size 640x480 with 1 Axes>"
            ],
            "image/png": "[encoded data removed]"
          },
          "metadata": {}
        }
      ]
    },
    {
      "cell_type": "code",
      "source": [
        "# Initialize lists to store the results of calculations\n",
        "XY = []\n",
        "X_square = []\n",
        "\n",
        "# Loop through the first 100 elements of X and Y\n",
        "for i in range(100):\n",
        "    # Calculate the product of X[i] and Y[i] and append it to XY\n",
        "    product = X[i] * Y[i]\n",
        "    XY.append(product)\n",
        "\n",
        "    # Calculate the square of X[i] and append it to X_square\n",
        "    square = X[i] ** 2\n",
        "    X_square.append(square)\n",
        "\n",
        "# Calculate the averages of XY, X, Y, and X_square\n",
        "average_XY = np.mean(XY)\n",
        "average_X = np.mean(X)\n",
        "average_Y = np.mean(Y)\n",
        "average_X_square = np.mean(X_square)\n",
        "\n",
        "# Comment: Calculating the averages of the product of X and Y (XY), X, Y, and the square of X (X_square).\n"
      ],
      "metadata": {
        "id": "6TEoU-fqWrW3"
      },
      "execution_count": null,
      "outputs": []
    },
    {
      "cell_type": "code",
      "source": [
        "# Calculate the slope (m) and y-intercept (c) for the linear regression model\n",
        "m = (average_XY - average_X * average_Y) / (average_X_square - average_X ** 2)\n",
        "c = (average_Y - m * average_X)\n",
        "\n",
        "# Display the calculated slope and y-intercept\n",
        "print(\"Value of slope (m):\", m)\n",
        "print(\"Value of y-intercept (c):\", c)\n",
        "\n",
        "# Comment: Calculating the slope (m) and y-intercept (c) for the linear regression model."
      ],
      "metadata": {
        "id": "4cfPQ-eBWv87",
        "colab": {
          "base_uri": "https://localhost:8080/"
        },
        "outputId": "a91878f7-4de5-47b5-94c6-4355a3b91aba"
      },
      "execution_count": null,
      "outputs": [
        {
          "output_type": "stream",
          "name": "stdout",
          "text": [
            "Value of slope (m): 0.09419021414817955\n",
            "Value of y-intercept (c): 1.1770620783119932\n"
          ]
        }
      ]
    },
    {
      "cell_type": "code",
      "source": [
        "# Initialize a list to store the predicted Y values\n",
        "predicted_Y = []\n",
        "\n",
        "# Loop through the first 100 elements of X to predict corresponding Y values using the linear regression model\n",
        "for i in range(100):\n",
        "    # Calculate the predicted Y using the linear regression model\n",
        "    prediction = m * X[i] + c\n",
        "    predicted_Y.append(prediction)\n",
        "\n",
        "# Plotting the graph; Given data set is scattered, but the predicted dataset is represented as a line.\n",
        "plt.scatter(X, Y, s=0.4, label='Actual Data')  # Scatter plot for the actual data points\n",
        "plt.plot(X, predicted_Y, label='Linear Regression Line', color='red')  # Line plot for the predicted values\n",
        "\n",
        "# Adding labels and legend\n",
        "plt.xlabel('X')\n",
        "plt.ylabel('Y')\n",
        "plt.legend()\n",
        "\n",
        "# Display the plot\n",
        "plt.show()"
      ],
      "metadata": {
        "id": "QkRLlAXeWvvi",
        "colab": {
          "base_uri": "https://localhost:8080/",
          "height": 449
        },
        "outputId": "44d5cff5-acfe-444d-fd9e-a49db86db145"
      },
      "execution_count": null,
      "outputs": [
        {
          "output_type": "display_data",
          "data": {
            "text/plain": [
              "<Figure size 640x480 with 1 Axes>"
            ],
            "image/png": "[encoded data removed]"
          },
          "metadata": {}
        }
      ]
    },
    {
      "cell_type": "markdown",
      "source": [
        "# Verification"
      ],
      "metadata": {
        "id": "Fg9F6E6zEn4z"
      }
    },
    {
      "cell_type": "code",
      "source": [
        "# Using linear regression from scikit-learn to fit the model\n",
        "regr = LinearRegression()\n",
        "\n",
        "# Reshape X and Y arrays to a 2D array for scikit-learn\n",
        "x_array = np.array(X).reshape(-1, 1)\n",
        "y_array = np.array(Y).reshape(-1, 1)\n",
        "\n",
        "# Fit the linear regression model\n",
        "regr.fit(x_array, y_array)\n",
        "\n",
        "# Display the calculated slope and y-intercept\n",
        "print(\"Slope:\", regr.coef_)\n",
        "print(\"Intercept:\", regr.intercept_)\n",
        "\n",
        "# Comment: Using scikit-learn's LinearRegression to fit a linear regression model.\n",
        "# Displaying the calculated slope and y-intercept."
      ],
      "metadata": {
        "id": "wFa7podkW1KM",
        "colab": {
          "base_uri": "https://localhost:8080/"
        },
        "outputId": "8efae1f5-9878-4116-8723-dbbab06d2d2c"
      },
      "execution_count": null,
      "outputs": [
        {
          "output_type": "stream",
          "name": "stdout",
          "text": [
            "Slope: [[0.09419021]]\n",
            "Intercept: [1.17706208]\n"
          ]
        }
      ]
    },
    {
      "cell_type": "code",
      "source": [
        "# Predicting the values using the trained linear regression model\n",
        "y_pred_array = regr.predict(x_array)\n",
        "y_pred_list = list(y_pred_array.reshape(1, -1)[0])\n",
        "\n",
        "# Plotting the graph; Given data set is scattered, but the predicted dataset is represented as a line.\n",
        "plt.scatter(X, Y, s=0.4, label='Actual Data')  # Scatter plot for the actual data points\n",
        "plt.plot(X, y_pred_list, label='Linear Regression Fit', color='red')  # Line plot for the predicted values\n",
        "\n",
        "# Adding labels and legend\n",
        "plt.xlabel('X')\n",
        "plt.ylabel('Y')\n",
        "plt.legend()\n",
        "\n",
        "# Display the plot\n",
        "plt.show()"
      ],
      "metadata": {
        "id": "_12URcfMW3IR",
        "colab": {
          "base_uri": "https://localhost:8080/",
          "height": 449
        },
        "outputId": "240afaff-cedd-4f7f-a73f-25ed64e442b0"
      },
      "execution_count": null,
      "outputs": [
        {
          "output_type": "display_data",
          "data": {
            "text/plain": [
              "<Figure size 640x480 with 1 Axes>"
            ],
            "image/png": "[encoded data removed]"
          },
          "metadata": {}
        }
      ]
    },
    {
      "cell_type": "code",
      "source": [
        "# Calculate error metrics between the predictions by the scikit-learn regression model and the given data\n",
        "mae = mean_absolute_error(y_true=y_array, y_pred=y_pred_array)\n",
        "mse = mean_squared_error(y_true=y_array, y_pred=y_pred_array)\n",
        "# rmse = root_mean_squared_error(y_true=y_array, y_pred=y_pred_array)\n",
        "r_square = r2_score(y_array, y_pred_array)\n",
        "\n",
        "# Display the calculated error metrics\n",
        "print(\"Mean Absolute Error (MAE):\", mae)\n",
        "print(\"Mean Squared Error (MSE):\", mse)\n",
        "# print(\"Root Mean Squared Error (RMSE):\", rmse)\n",
        "print(\"R-Squared (r_square):\", r_square)\n",
        "\n",
        "# Comment: Calculating various error metrics (MAE, MSE, RMSE, and R-Squared)\n",
        "# between the predictions by the scikit-learn regression model and the given data."
      ],
      "metadata": {
        "id": "zYUM2KdyW4aT",
        "colab": {
          "base_uri": "https://localhost:8080/"
        },
        "outputId": "4fac76a5-3207-46bd-c9c2-b51a9e6957c2"
      },
      "execution_count": null,
      "outputs": [
        {
          "output_type": "stream",
          "name": "stdout",
          "text": [
            "Mean Absolute Error (MAE): 0.29467793301310374\n",
            "Mean Squared Error (MSE): 0.16173044143088552\n",
            "R-Squared (r_square): 0.3136973226728079\n"
          ]
        }
      ]
    },
    {
      "cell_type": "code",
      "source": [
        "# Error calculation between \"prediction by My Own Regression model\" and \"given data.\"\n",
        "\n",
        "# Calculate Mean Absolute Error (MAE)\n",
        "mae = mean_absolute_error(y_true=y_array, y_pred=predicted_Y)\n",
        "print(\"Mean Absolute Error (MAE):\", mae)\n",
        "\n",
        "# Calculate Mean Squared Error (MSE)\n",
        "mse = mean_squared_error(y_true=y_array, y_pred=predicted_Y)\n",
        "print(\"Mean Squared Error (MSE):\", mse)\n",
        "\n",
        "# Calculate Root Mean Squared Error (RMSE)\n",
        "# rmse = root_mean_squared_error(y_true=y_array, y_pred=predicted_Y)\n",
        "# print(\"Root Mean Squared Error (RMSE):\", rmse)\n",
        "\n",
        "# Calculate R-squared (coefficient of determination)\n",
        "r_square = r2_score(y_array, predicted_Y)\n",
        "print(\"R-squared (r2_score):\", r_square)"
      ],
      "metadata": {
        "id": "0TAzXsKpW9Dd",
        "colab": {
          "base_uri": "https://localhost:8080/"
        },
        "outputId": "e08c77ff-f441-40a8-af7d-3d599f660966"
      },
      "execution_count": null,
      "outputs": [
        {
          "output_type": "stream",
          "name": "stdout",
          "text": [
            "Mean Absolute Error (MAE): 0.29467793301310385\n",
            "Mean Squared Error (MSE): 0.16173044143088552\n",
            "R-squared (r2_score): 0.3136973226728079\n"
          ]
        }
      ]
    }
  ]
}